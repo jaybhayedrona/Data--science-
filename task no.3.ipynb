{
 "cells": [
  {
   "cell_type": "markdown",
   "id": "e583f4ae-d251-4db8-b0e7-746e26bec4dc",
   "metadata": {},
   "source": [
    "Name : Drona Jaybhaye\n",
    "\n",
    "Branch: Computer\n",
    "\n",
    "Topic:Numpy Functions"
   ]
  },
  {
   "cell_type": "code",
   "execution_count": 1,
   "id": "50399b2a-844a-4922-9402-503ba3c6407a",
   "metadata": {},
   "outputs": [
    {
     "name": "stdout",
     "output_type": "stream",
     "text": [
      "['cherry' 'apple' 'mango']\n"
     ]
    }
   ],
   "source": [
    "import numpy as drona\n",
    "a = drona.array(['cherry','apple','mango'])\n",
    "print(a)  "
   ]
  },
  {
   "cell_type": "code",
   "execution_count": 2,
   "id": "2e24bc1b-fc60-4cc3-b5a7-5e0dd2dfa1f0",
   "metadata": {},
   "outputs": [
    {
     "name": "stdout",
     "output_type": "stream",
     "text": [
      "[[0. 0.]]\n"
     ]
    }
   ],
   "source": [
    "z = drona.zeros((1,2))\n",
    "print(z)"
   ]
  },
  {
   "cell_type": "code",
   "execution_count": 3,
   "id": "70ef7d43-3824-4173-8143-a8b1c250a9ce",
   "metadata": {},
   "outputs": [
    {
     "name": "stdout",
     "output_type": "stream",
     "text": [
      "[[1. 1. 1. 1. 1. 1. 1. 1. 1. 1.]\n",
      " [1. 1. 1. 1. 1. 1. 1. 1. 1. 1.]\n",
      " [1. 1. 1. 1. 1. 1. 1. 1. 1. 1.]\n",
      " [1. 1. 1. 1. 1. 1. 1. 1. 1. 1.]\n",
      " [1. 1. 1. 1. 1. 1. 1. 1. 1. 1.]\n",
      " [1. 1. 1. 1. 1. 1. 1. 1. 1. 1.]\n",
      " [1. 1. 1. 1. 1. 1. 1. 1. 1. 1.]\n",
      " [1. 1. 1. 1. 1. 1. 1. 1. 1. 1.]\n",
      " [1. 1. 1. 1. 1. 1. 1. 1. 1. 1.]\n",
      " [1. 1. 1. 1. 1. 1. 1. 1. 1. 1.]]\n"
     ]
    }
   ],
   "source": [
    "o = drona.ones((10, 10))\n",
    "print(o)"
   ]
  },
  {
   "cell_type": "code",
   "execution_count": 4,
   "id": "af2e0543-d124-4b8a-a325-ba747f789cbc",
   "metadata": {},
   "outputs": [
    {
     "name": "stdout",
     "output_type": "stream",
     "text": [
      "[[1. 0. 0. 0.]\n",
      " [0. 1. 0. 0.]\n",
      " [0. 0. 1. 0.]\n",
      " [0. 0. 0. 1.]]\n"
     ]
    }
   ],
   "source": [
    "i = drona.eye(4)\n",
    "print(i)"
   ]
  },
  {
   "cell_type": "code",
   "execution_count": 5,
   "id": "855fd280-260b-4584-844b-36e2bccb1685",
   "metadata": {},
   "outputs": [
    {
     "name": "stdout",
     "output_type": "stream",
     "text": [
      "[0 2 4 6 8]\n"
     ]
    }
   ],
   "source": [
    "r = drona.arange(0, 10, 2)\n",
    "print(r)  "
   ]
  },
  {
   "cell_type": "code",
   "execution_count": 6,
   "id": "6c3915c7-c877-457f-bd8c-5a5c84f38c31",
   "metadata": {},
   "outputs": [
    {
     "name": "stdout",
     "output_type": "stream",
     "text": [
      "[[1 2 3]\n",
      " [4 5 6]]\n"
     ]
    }
   ],
   "source": [
    "a = drona.array([1, 2, 3, 4, 5, 6])\n",
    "reshaped = a.reshape((2, 3))\n",
    "print(reshaped)"
   ]
  },
  {
   "cell_type": "code",
   "execution_count": 7,
   "id": "0637de10-0d8f-495f-a674-9839a98d2e88",
   "metadata": {},
   "outputs": [
    {
     "name": "stdout",
     "output_type": "stream",
     "text": [
      "[1 2 3 4]\n"
     ]
    }
   ],
   "source": [
    "a = drona.array([1, 2])\n",
    "b = drona.array([3, 4])\n",
    "combined = drona.concatenate((a, b))\n",
    "print(combined)  "
   ]
  },
  {
   "cell_type": "code",
   "execution_count": 8,
   "id": "0b7dfa39-6bcc-475b-9d90-9051a62f23f1",
   "metadata": {},
   "outputs": [
    {
     "name": "stdout",
     "output_type": "stream",
     "text": [
      "2.5\n"
     ]
    }
   ],
   "source": [
    "a = drona.array([1, 2, 3, 4])\n",
    "print(drona.mean(a)) "
   ]
  },
  {
   "cell_type": "code",
   "execution_count": 10,
   "id": "edff48f4-acb7-46a6-9f31-d1e57009d061",
   "metadata": {},
   "outputs": [
    {
     "name": "stdout",
     "output_type": "stream",
     "text": [
      "10\n"
     ]
    }
   ],
   "source": [
    "a = drona.array([[1, 2], [3, 4]])\n",
    "print(drona.sum(a))  "
   ]
  },
  {
   "cell_type": "code",
   "execution_count": 11,
   "id": "25458f01-55d3-45f8-8c30-ec6a20c46ed6",
   "metadata": {},
   "outputs": [
    {
     "name": "stdout",
     "output_type": "stream",
     "text": [
      "9\n"
     ]
    }
   ],
   "source": [
    "arr = drona.array([4, 7, 1, 9])\n",
    "print(drona.max(arr))\n"
   ]
  },
  {
   "cell_type": "code",
   "execution_count": 12,
   "id": "12adf086-51e2-4d50-8946-72b32294beb3",
   "metadata": {},
   "outputs": [
    {
     "name": "stdout",
     "output_type": "stream",
     "text": [
      "1\n"
     ]
    }
   ],
   "source": [
    "arr = drona.array([4, 7, 1, 9])\n",
    "print(drona.min(arr))\n"
   ]
  },
  {
   "cell_type": "code",
   "execution_count": 13,
   "id": "07150759-2a15-47ff-aaf0-d5575bb32dc2",
   "metadata": {},
   "outputs": [
    {
     "name": "stdout",
     "output_type": "stream",
     "text": [
      "[1 2 3]\n"
     ]
    }
   ],
   "source": [
    "arr = drona.array([1, 2, 2, 3, 3, 3])\n",
    "unique_vals = drona.unique(arr)\n",
    "print(unique_vals)\n"
   ]
  },
  {
   "cell_type": "code",
   "execution_count": 15,
   "id": "9ebb8f99-9a71-4bbc-9ab8-6b5e3fda6bdf",
   "metadata": {},
   "outputs": [
    {
     "name": "stdout",
     "output_type": "stream",
     "text": [
      "8.178562764256865\n"
     ]
    }
   ],
   "source": [
    "arr = drona.array([10, 21, 30])\n",
    "print(drona.std(arr))\n"
   ]
  },
  {
   "cell_type": "code",
   "execution_count": 16,
   "id": "fd2a7cb6-81fc-42ae-8168-9e15ad5a4848",
   "metadata": {},
   "outputs": [
    {
     "name": "stdout",
     "output_type": "stream",
     "text": [
      "11\n"
     ]
    }
   ],
   "source": [
    "a = drona.array([1, 2])\n",
    "b = drona.array([3, 4])\n",
    "print(drona.dot(a, b))  \n"
   ]
  }
 ],
 "metadata": {
  "kernelspec": {
   "display_name": "Python 3 (ipykernel)",
   "language": "python",
   "name": "python3"
  },
  "language_info": {
   "codemirror_mode": {
    "name": "ipython",
    "version": 3
   },
   "file_extension": ".py",
   "mimetype": "text/x-python",
   "name": "python",
   "nbconvert_exporter": "python",
   "pygments_lexer": "ipython3",
   "version": "3.13.5"
  }
 },
 "nbformat": 4,
 "nbformat_minor": 5
}
