{
 "cells": [
  {
   "cell_type": "markdown",
   "id": "2fa431f5-ce9e-41b7-a07a-2f15dd248675",
   "metadata": {},
   "source": [
    "# File Operations"
   ]
  },
  {
   "cell_type": "markdown",
   "id": "5654e5f0-0823-4914-8cf6-27860bdf0a3a",
   "metadata": {},
   "source": [
    "Create and open a file"
   ]
  },
  {
   "cell_type": "code",
   "execution_count": 26,
   "id": "e2619e50-2efe-4b37-ab8d-2d91ef57a0d2",
   "metadata": {},
   "outputs": [
    {
     "name": "stdout",
     "output_type": "stream",
     "text": [
      "File created and data written.\n",
      "\n"
     ]
    }
   ],
   "source": [
    "file = open(\"myfile.txt\", \"w\")  \n",
    "file.write(\"This is the first line.\\n\")\n",
    "file.write(\"HELLO WORLD!\")\n",
    "file.close()\n",
    "\n",
    "print(\"File created and data written.\\n\")\n"
   ]
  },
  {
   "cell_type": "markdown",
   "id": "5c50a99f-ec6b-45f2-86a7-fd3fbc6d57d5",
   "metadata": {},
   "source": [
    "Append data to file"
   ]
  },
  {
   "cell_type": "code",
   "execution_count": 28,
   "id": "7083e52b-3c05-45af-a0c8-e0fc26211caf",
   "metadata": {},
   "outputs": [
    {
     "name": "stdout",
     "output_type": "stream",
     "text": [
      "Data appended successfully.\n"
     ]
    }
   ],
   "source": [
    "file = open(\"myfile.txt\", \"a\") \n",
    "file.write(\"This is Drona Jaybhaye\\n\")\n",
    "file.write(\"I'm 18 years old.\\n\")\n",
    "file.close()\n",
    "\n",
    "print(\"Data appended successfully.\")\n"
   ]
  },
  {
   "cell_type": "markdown",
   "id": "0b97f113-9714-4a9b-9c1c-dcc085e52fca",
   "metadata": {},
   "source": [
    "Read data from file"
   ]
  },
  {
   "cell_type": "code",
   "execution_count": 29,
   "id": "7dcea7db-1380-4912-ad3a-75fa284c3c48",
   "metadata": {},
   "outputs": [
    {
     "name": "stdout",
     "output_type": "stream",
     "text": [
      "Reading File Content:\n",
      "----------------------\n",
      "This is the first line.\n",
      "HELLO WORLD!This is Drona Jaybhaye\n",
      "I'm 18 years old.\n",
      "\n"
     ]
    }
   ],
   "source": [
    "file = open(\"myfile.txt\", \"r\")  \n",
    "content = file.read()\n",
    "file.close()\n",
    "\n",
    "print(\"Reading File Content:\")\n",
    "print(\"----------------------\")\n",
    "print (content)\n"
   ]
  },
  {
   "cell_type": "markdown",
   "id": "5f4a01a1-4dd7-479d-9c88-6a3a54382202",
   "metadata": {},
   "source": [
    "Rename a file"
   ]
  },
  {
   "cell_type": "code",
   "execution_count": 22,
   "id": "f7823db9-4ea9-4a16-a017-c328b5a4b34b",
   "metadata": {},
   "outputs": [
    {
     "name": "stdout",
     "output_type": "stream",
     "text": [
      "File renamed from 'myfile.txt' to 'newfile.txt'.\n"
     ]
    }
   ],
   "source": [
    "import os\n",
    "old_name = \"myfile.txt\"\n",
    "new_name = \"newfile.txt\"\n",
    "if os.path.exists(old_name):\n",
    "os.rename(old_name, new_name)\n",
    "print(f\"File renamed from '{old_name}' to '{new_name}'.\")\n",
    "else:\n",
    "    print(\"Original file not found.\")\n"
   ]
  },
  {
   "cell_type": "markdown",
   "id": "e5d59500-1f79-43e8-a294-0f9fc7bf6870",
   "metadata": {},
   "source": [
    "Delete a file"
   ]
  },
  {
   "cell_type": "code",
   "execution_count": 23,
   "id": "89f574cc-4fe9-499e-bae4-fb91bbf75972",
   "metadata": {},
   "outputs": [
    {
     "name": "stdout",
     "output_type": "stream",
     "text": [
      "File 'newfile.txt' deleted successfully.\n"
     ]
    }
   ],
   "source": [
    "import os\n",
    "file_to_delete = \"newfile.txt\"\n",
    "if os.path.exists(file_to_delete):\n",
    "os.remove(file_to_delete)\n",
    "print(f\"File '{file_to_delete}' deleted successfully.\")\n",
    "else:\n",
    "    print(\"File not found. Cannot delete.\")\n",
    "\n"
   ]
  },
  {
   "cell_type": "markdown",
   "id": "6921754c-35d9-423c-bbd2-e24a376bfd57",
   "metadata": {},
   "source": [
    "# Operators"
   ]
  },
  {
   "cell_type": "code",
   "execution_count": 32,
   "id": "76e27bae-6871-4791-b502-6859d3f64c0d",
   "metadata": {},
   "outputs": [
    {
     "name": "stdout",
     "output_type": "stream",
     "text": [
      "Arithmetic Operators:\n",
      "Sum: 14\n",
      "Difference: 6\n",
      "Multiply: 40\n",
      "Division: 2.5\n",
      "Modulus: 2\n",
      "\n",
      "Assignment Operators:\n",
      "x after += 3: 8\n",
      "x after *= 2: 16\n",
      "x after -= 4: 12\n",
      "\n",
      "Bitwise Operators:\n",
      "a & b (AND): 0\n",
      "a | b (OR): 14\n",
      "a ^ b (XOR): 14\n",
      "~a (NOT): -11\n",
      "a << 1 (Left Shift): 20\n",
      "b >> 1 (Right Shift): 2\n",
      "\n",
      "Comparison Operators:\n",
      "a == b: False\n",
      "a != b: True\n",
      "a > b: True\n",
      "a < b: False\n",
      "\n",
      "Logical Operators:\n",
      "cond1 and cond2: False\n",
      "cond1 or cond2: True\n",
      "not cond1: False\n"
     ]
    }
   ],
   "source": [
    "a = 10\n",
    "b = 4\n",
    "\n",
    "# Arithmetic Operators\n",
    "sum_ = a + b\n",
    "diff = a - b\n",
    "mul = a * b\n",
    "div = a / b\n",
    "mod = a % b\n",
    "\n",
    "print(\"Arithmetic Operators:\")\n",
    "print(\"Sum:\", sum_)\n",
    "print(\"Difference:\", diff)\n",
    "print(\"Multiply:\", mul)\n",
    "print(\"Division:\", div)\n",
    "print(\"Modulus:\", mod)\n",
    "\n",
    "# Assignment Operators\n",
    "x = 5\n",
    "print(\"\\nAssignment Operators:\")\n",
    "x += 3  \n",
    "print(\"x after += 3:\", x)\n",
    "x *= 2  \n",
    "print(\"x after *= 2:\", x)\n",
    "x -= 4\n",
    "print(\"x after -= 4:\", x)\n",
    "\n",
    "# Bitwise Operators\n",
    "print(\"\\nBitwise Operators:\")\n",
    "print(\"a & b (AND):\", a & b)\n",
    "print(\"a | b (OR):\", a | b)\n",
    "print(\"a ^ b (XOR):\", a ^ b)\n",
    "print(\"~a (NOT):\", ~a)\n",
    "print(\"a << 1 (Left Shift):\", a << 1)\n",
    "print(\"b >> 1 (Right Shift):\", b >> 1)\n",
    "\n",
    "# Comparison Operators\n",
    "print(\"\\nComparison Operators:\")\n",
    "print(\"a == b:\", a == b)\n",
    "print(\"a != b:\", a != b)\n",
    "print(\"a > b:\", a > b)\n",
    "print(\"a < b:\", a < b)\n",
    "\n",
    "# Logical Operators\n",
    "print(\"\\nLogical Operators:\")\n",
    "cond1 = a > 5\n",
    "cond2 = b < 2\n",
    "print(\"cond1 and cond2:\", cond1 and cond2)\n",
    "print(\"cond1 or cond2:\", cond1 or cond2)\n",
    "print(\"not cond1:\", not cond1)\n"
   ]
  },
  {
   "cell_type": "markdown",
   "id": "93f5ab84-0460-42a2-b47e-992c96eabc0c",
   "metadata": {},
   "source": [
    "# String functions"
   ]
  },
  {
   "cell_type": "code",
   "execution_count": 1,
   "id": "dfb62e86-291c-40cf-a559-841b45ba6071",
   "metadata": {},
   "outputs": [
    {
     "name": "stdout",
     "output_type": "stream",
     "text": [
      "Drona Jaybhaye\n"
     ]
    }
   ],
   "source": [
    "s = \" Drona Jaybhaye \"\n",
    "print(s.strip())"
   ]
  },
  {
   "cell_type": "code",
   "execution_count": 2,
   "id": "177c86d5-273e-4940-95cb-34dbb3c1e3c7",
   "metadata": {},
   "outputs": [
    {
     "name": "stdout",
     "output_type": "stream",
     "text": [
      "Drona Hello!\n"
     ]
    }
   ],
   "source": [
    "s = \"Drona Jaybhaye\"\n",
    "print(s.replace(\"Jaybhaye\", \"Hello!\"))"
   ]
  },
  {
   "cell_type": "code",
   "execution_count": 3,
   "id": "b8381c91-6625-41a0-a174-a53934893b64",
   "metadata": {},
   "outputs": [
    {
     "name": "stdout",
     "output_type": "stream",
     "text": [
      "-1\n"
     ]
    }
   ],
   "source": [
    "s = \"Drona\"\n",
    "print(s.find(\"1\"))"
   ]
  },
  {
   "cell_type": "code",
   "execution_count": 4,
   "id": "3f2e6dcd-1397-498d-82b1-2399d41db650",
   "metadata": {},
   "outputs": [
    {
     "name": "stdout",
     "output_type": "stream",
     "text": [
      "-1\n"
     ]
    }
   ],
   "source": [
    "s = \"hello\"\n",
    "print(s.find(\"1\"))"
   ]
  },
  {
   "cell_type": "code",
   "execution_count": 5,
   "id": "a9dae2bb-8917-4515-ad1b-955e5d2c3dad",
   "metadata": {},
   "outputs": [
    {
     "name": "stdout",
     "output_type": "stream",
     "text": [
      "['a', 'b', 'c']\n"
     ]
    }
   ],
   "source": [
    "s = \"a,b,c\"\n",
    "print(s.split(\",\"))"
   ]
  },
  {
   "cell_type": "code",
   "execution_count": 6,
   "id": "23813ea3-f46b-4bb8-95f2-a94a5d321fdf",
   "metadata": {},
   "outputs": [
    {
     "name": "stdout",
     "output_type": "stream",
     "text": [
      "Drona Jaybhaye\n"
     ]
    }
   ],
   "source": [
    "s = \"Drona Jaybhaye\"\n",
    "print(s.title())"
   ]
  },
  {
   "cell_type": "code",
   "execution_count": 7,
   "id": "c0585585-982b-4d2a-837a-6ebc6fcab6f8",
   "metadata": {},
   "outputs": [
    {
     "name": "stdout",
     "output_type": "stream",
     "text": [
      "Drona jaybhaye\n"
     ]
    }
   ],
   "source": [
    "s = \"drona jaybhaye\"\n",
    "print(s.capitalize())  "
   ]
  },
  {
   "cell_type": "code",
   "execution_count": 8,
   "id": "d1aa52bf-1a32-4792-97a2-45bb1d66e7ee",
   "metadata": {},
   "outputs": [
    {
     "name": "stdout",
     "output_type": "stream",
     "text": [
      "True\n"
     ]
    }
   ],
   "source": [
    "s = \"abc\"\n",
    "print(s.isalpha())"
   ]
  },
  {
   "cell_type": "code",
   "execution_count": 9,
   "id": "ce1b90ef-c931-4189-b338-617253eadbf7",
   "metadata": {},
   "outputs": [
    {
     "name": "stdout",
     "output_type": "stream",
     "text": [
      "False\n"
     ]
    }
   ],
   "source": [
    "s = \"12a4\"\n",
    "print(s.isdigit()) "
   ]
  },
  {
   "cell_type": "code",
   "execution_count": 10,
   "id": "5a8b8556-c569-451d-bcef-12671b49b1af",
   "metadata": {},
   "outputs": [
    {
     "name": "stdout",
     "output_type": "stream",
     "text": [
      "DrONA\n"
     ]
    }
   ],
   "source": [
    "s = \"dRona\"\n",
    "print(s.swapcase())  "
   ]
  },
  {
   "cell_type": "code",
   "execution_count": 11,
   "id": "7e0133cb-bce5-49be-a57c-251163e2caaf",
   "metadata": {},
   "outputs": [
    {
     "name": "stdout",
     "output_type": "stream",
     "text": [
      "0042\n"
     ]
    }
   ],
   "source": [
    "s = \"42\"\n",
    "print(s.zfill(4))  "
   ]
  }
 ],
 "metadata": {
  "kernelspec": {
   "display_name": "Python 3 (ipykernel)",
   "language": "python",
   "name": "python3"
  },
  "language_info": {
   "codemirror_mode": {
    "name": "ipython",
    "version": 3
   },
   "file_extension": ".py",
   "mimetype": "text/x-python",
   "name": "python",
   "nbconvert_exporter": "python",
   "pygments_lexer": "ipython3",
   "version": "3.13.5"
  }
 },
 "nbformat": 4,
 "nbformat_minor": 5
}
