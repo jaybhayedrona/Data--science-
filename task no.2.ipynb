{
 "cells": [
  {
   "cell_type": "markdown",
   "id": "3a84b084-2756-4c2a-8cf9-ee961761f381",
   "metadata": {},
   "source": [
    "# Tuple methods"
   ]
  },
  {
   "cell_type": "code",
   "execution_count": 2,
   "id": "e80904cd-452e-4857-a0bf-7f07eed7fcfb",
   "metadata": {},
   "outputs": [
    {
     "name": "stdout",
     "output_type": "stream",
     "text": [
      "2\n"
     ]
    }
   ],
   "source": [
    "my_tuple = (10, 20, 20, 30, 21)\n",
    "print(my_tuple.count(20))\n"
   ]
  },
  {
   "cell_type": "code",
   "execution_count": 5,
   "id": "8ea9e0c6-114d-4a94-ac09-d159405678e6",
   "metadata": {},
   "outputs": [
    {
     "name": "stdout",
     "output_type": "stream",
     "text": [
      "0\n"
     ]
    }
   ],
   "source": [
    "my_tuple = (50, 10, 15, 10)\n",
    "print(my_tuple.index(50))\n"
   ]
  },
  {
   "cell_type": "markdown",
   "id": "b046d371-dd02-4448-a4d6-7f467c6ee180",
   "metadata": {},
   "source": [
    "# Set methods"
   ]
  },
  {
   "cell_type": "code",
   "execution_count": 1,
   "id": "e26dd833-12c5-4e20-af2f-e4fafd49c94f",
   "metadata": {},
   "outputs": [
    {
     "name": "stdout",
     "output_type": "stream",
     "text": [
      "{1, 2, 3}\n"
     ]
    }
   ],
   "source": [
    "my_set = {1, 2}\n",
    "my_set.add(3)\n",
    "print(my_set)"
   ]
  },
  {
   "cell_type": "code",
   "execution_count": 2,
   "id": "c9790743-92a9-4740-8cd2-20132843d215",
   "metadata": {},
   "outputs": [
    {
     "name": "stdout",
     "output_type": "stream",
     "text": [
      "{3, 'b', 'a', 4}\n"
     ]
    }
   ],
   "source": [
    "my_set = {'a', 'b'}\n",
    "my_set.update([3, 4])\n",
    "print(my_set)"
   ]
  },
  {
   "cell_type": "code",
   "execution_count": 3,
   "id": "09e78d97-f113-4fce-bdbe-279514b6f235",
   "metadata": {},
   "outputs": [
    {
     "name": "stdout",
     "output_type": "stream",
     "text": [
      "{'world'}\n"
     ]
    }
   ],
   "source": [
    "my_set = {'hello','world','hello'}\n",
    "my_set.remove('hello')\n",
    "print(my_set)"
   ]
  },
  {
   "cell_type": "code",
   "execution_count": 4,
   "id": "2ee80bd1-17df-4b94-8246-3cbbac11d67e",
   "metadata": {},
   "outputs": [
    {
     "name": "stdout",
     "output_type": "stream",
     "text": [
      "{'b', 'a'}\n"
     ]
    }
   ],
   "source": [
    "my_set = {'a', 'b'}\n",
    "my_set.discard(5)  \n",
    "print(my_set)"
   ]
  },
  {
   "cell_type": "code",
   "execution_count": 5,
   "id": "a4f59690-eb6e-48a8-8c39-b1c7266a68f4",
   "metadata": {},
   "outputs": [
    {
     "name": "stdout",
     "output_type": "stream",
     "text": [
      "10\n",
      "{20, 30}\n"
     ]
    }
   ],
   "source": [
    "my_set = {10, 20, 30}\n",
    "x = my_set.pop()\n",
    "print(x)\n",
    "print(my_set)"
   ]
  },
  {
   "cell_type": "code",
   "execution_count": 6,
   "id": "2bcd0547-054d-46b9-bb2e-65462f32cd9f",
   "metadata": {},
   "outputs": [
    {
     "name": "stdout",
     "output_type": "stream",
     "text": [
      "set()\n"
     ]
    }
   ],
   "source": [
    "my_set = {11, 21, 31}\n",
    "my_set.clear()\n",
    "print(my_set)"
   ]
  },
  {
   "cell_type": "code",
   "execution_count": 7,
   "id": "29f2477f-1092-4f24-befa-bf28ea765cb8",
   "metadata": {},
   "outputs": [
    {
     "name": "stdout",
     "output_type": "stream",
     "text": [
      "{'c', 'b', 'a'}\n"
     ]
    }
   ],
   "source": [
    "a = {'c', 'b'}\n",
    "b = {'b', 'a'}\n",
    "print(a.union(b))"
   ]
  },
  {
   "cell_type": "code",
   "execution_count": 8,
   "id": "a34079b0-e66e-41b4-9177-1abc6577f967",
   "metadata": {},
   "outputs": [
    {
     "name": "stdout",
     "output_type": "stream",
     "text": [
      "{33, 22}\n"
     ]
    }
   ],
   "source": [
    "a = {11, 22, 33}\n",
    "b = {22, 33, 34}\n",
    "print(a.intersection(b))"
   ]
  },
  {
   "cell_type": "code",
   "execution_count": 9,
   "id": "73c4ea01-7458-4fc9-8541-6c06cfc14163",
   "metadata": {},
   "outputs": [
    {
     "name": "stdout",
     "output_type": "stream",
     "text": [
      "False\n"
     ]
    }
   ],
   "source": [
    "a = {10, 20}\n",
    "b = {30, 10}\n",
    "print(a.isdisjoint(b))"
   ]
  },
  {
   "cell_type": "markdown",
   "id": "68cf134b-16ab-48fa-8ddf-bbefe542e848",
   "metadata": {},
   "source": [
    "# List methods"
   ]
  },
  {
   "cell_type": "code",
   "execution_count": 10,
   "id": "be417d14-188b-40d9-8546-7cb32ded5222",
   "metadata": {},
   "outputs": [
    {
     "name": "stdout",
     "output_type": "stream",
     "text": [
      "[1, 2, 3, 4]\n"
     ]
    }
   ],
   "source": [
    "my_list = [1, 2, 3]\n",
    "my_list.append(4)\n",
    "print(my_list)"
   ]
  },
  {
   "cell_type": "code",
   "execution_count": 11,
   "id": "c26ee8d9-92c4-4580-ac03-3127455e986c",
   "metadata": {},
   "outputs": [
    {
     "name": "stdout",
     "output_type": "stream",
     "text": [
      "['apple', 'mango', 'kivi', 'banana']\n"
     ]
    }
   ],
   "source": [
    "my_list = ['apple','mango']\n",
    "my_list.extend(['kivi','banana'])\n",
    "print(my_list)"
   ]
  },
  {
   "cell_type": "code",
   "execution_count": 12,
   "id": "84a7e069-a411-4b44-8dfa-c4f9ccd317f6",
   "metadata": {},
   "outputs": [
    {
     "name": "stdout",
     "output_type": "stream",
     "text": [
      "[11, 21, 31]\n"
     ]
    }
   ],
   "source": [
    "my_list = [11, 21, 31, 22]\n",
    "my_list.remove(22)\n",
    "print(my_list)"
   ]
  },
  {
   "cell_type": "code",
   "execution_count": 13,
   "id": "41acddf3-b82c-442b-a969-142e84e405e8",
   "metadata": {},
   "outputs": [
    {
     "name": "stdout",
     "output_type": "stream",
     "text": [
      "c\n",
      "['a', ' b']\n"
     ]
    }
   ],
   "source": [
    "my_list = ['a',' b', 'c']\n",
    "x = my_list.pop()\n",
    "print(x)\n",
    "print(my_list)"
   ]
  },
  {
   "cell_type": "code",
   "execution_count": 14,
   "id": "9a4be11a-efa8-49c2-acf9-070c368b2a5e",
   "metadata": {},
   "outputs": [
    {
     "name": "stdout",
     "output_type": "stream",
     "text": [
      "[]\n"
     ]
    }
   ],
   "source": [
    "my_list = ['hello','world']\n",
    "my_list.clear()\n",
    "print(my_list)"
   ]
  },
  {
   "cell_type": "code",
   "execution_count": 15,
   "id": "f4c7537d-7421-44bc-9555-94e67bb4f8a0",
   "metadata": {},
   "outputs": [
    {
     "name": "stdout",
     "output_type": "stream",
     "text": [
      "2\n"
     ]
    }
   ],
   "source": [
    "my_list = [10, 20, 30, 40]\n",
    "print(my_list.index(30))"
   ]
  },
  {
   "cell_type": "code",
   "execution_count": 16,
   "id": "28602526-3c77-47f8-9c8e-69fc282ef247",
   "metadata": {},
   "outputs": [
    {
     "name": "stdout",
     "output_type": "stream",
     "text": [
      "2\n"
     ]
    }
   ],
   "source": [
    "my_list = ['maths','science','english','maths']\n",
    "print(my_list.count('maths'))"
   ]
  },
  {
   "cell_type": "code",
   "execution_count": 17,
   "id": "98db29ed-fad9-4151-9466-89a6d5f18108",
   "metadata": {},
   "outputs": [
    {
     "name": "stdout",
     "output_type": "stream",
     "text": [
      "['a', 'b', 'c', 'd']\n"
     ]
    }
   ],
   "source": [
    "my_list = ['a','c','d','b']\n",
    "my_list.sort()\n",
    "print(my_list)"
   ]
  },
  {
   "cell_type": "code",
   "execution_count": null,
   "id": "12d31668-0d0e-4b5c-8f6a-375b135eca8d",
   "metadata": {},
   "outputs": [],
   "source": []
  }
 ],
 "metadata": {
  "kernelspec": {
   "display_name": "Python 3 (ipykernel)",
   "language": "python",
   "name": "python3"
  },
  "language_info": {
   "codemirror_mode": {
    "name": "ipython",
    "version": 3
   },
   "file_extension": ".py",
   "mimetype": "text/x-python",
   "name": "python",
   "nbconvert_exporter": "python",
   "pygments_lexer": "ipython3",
   "version": "3.13.5"
  }
 },
 "nbformat": 4,
 "nbformat_minor": 5
}
